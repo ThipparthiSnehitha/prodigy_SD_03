{
  "nbformat": 4,
  "nbformat_minor": 0,
  "metadata": {
    "colab": {
      "provenance": []
    },
    "kernelspec": {
      "name": "python3",
      "display_name": "Python 3"
    },
    "language_info": {
      "name": "python"
    }
  },
  "cells": [
    {
      "cell_type": "code",
      "execution_count": 11,
      "metadata": {
        "id": "UMylFjXnJyUm"
      },
      "outputs": [],
      "source": [
        "# Step 1: Install Gradio\n",
        "!pip install gradio --quiet"
      ]
    },
    {
      "cell_type": "code",
      "source": [
        "# Step 2: Contact Manager App using Gradio\n",
        "import gradio as gr\n",
        "import json\n",
        "import os\n",
        "\n",
        "CONTACTS_FILE = \"contacts.json\"\n",
        "\n",
        "# Load and save helpers\n",
        "def load_contacts():\n",
        "    if os.path.exists(CONTACTS_FILE):\n",
        "        with open(CONTACTS_FILE, \"r\") as file:\n",
        "            return json.load(file)\n",
        "    return {}\n",
        "\n",
        "def save_contacts(data):\n",
        "    with open(CONTACTS_FILE, \"w\") as file:\n",
        "        json.dump(data, file, indent=4)\n",
        "\n",
        "contacts = load_contacts()\n",
        "\n",
        "# Add or Update Contact\n",
        "def add_or_update_contact(name, phone, email):\n",
        "    if not name:\n",
        "        return \"Name cannot be empty\", view_contacts()\n",
        "    contacts[name] = {\"phone\": phone, \"email\": email}\n",
        "    save_contacts(contacts)\n",
        "    return f\"Contact '{name}' saved successfully.\", view_contacts()\n",
        "    # View All Contacts\n",
        "def view_contacts():\n",
        "    if not contacts:\n",
        "        return \"No contacts yet.\"\n",
        "    output = \"\"\n",
        "    for name, info in contacts.items():\n",
        "        output += f\"🧍 {name}\\n📞 {info['phone']}\\n✉️ {info['email']}\\n\\n\"\n",
        "    return output.strip()\n",
        "\n",
        "# Delete Contact\n",
        "def delete_contact(name):\n",
        "    if name in contacts:\n",
        "        del contacts[name]\n",
        "        save_contacts(contacts)\n",
        "        return f\"Deleted contact '{name}'.\", view_contacts()\n",
        "    else:\n",
        "        return \"Contact not found.\", view_contacts()\n",
        "\n",
        "# Toggle visibility of contacts\n",
        "def toggle_contacts(current_text):\n",
        "    if current_text.strip() == \"\":\n",
        "        return view_contacts()\n",
        "    else:\n",
        "        return \"\"\n",
        "\n",
        "# Gradio UI\n",
        "with gr.Blocks() as demo:\n",
        "    gr.Markdown(\"## 📒 Contact Manager (Gradio GUI)\")\n",
        "\n",
        "    with gr.Row():\n",
        "        name = gr.Textbox(label=\"Name\")\n",
        "        phone = gr.Textbox(label=\"Phone Number\")\n",
        "        email = gr.Textbox(label=\"Email Address\")\n",
        "\n",
        "    with gr.Row():\n",
        "        add_btn = gr.Button(\"➕ Add / Update\")\n",
        "        delete_btn = gr.Button(\"❌ Delete Contact\")\n",
        "        refresh_btn = gr.Button(\"🔄 Refresh\")\n",
        "        hide_btn = gr.Button(\"🙈Hide/Show Contacts\")\n",
        "\n",
        "    output_msg = gr.Textbox(label=\"Message\", interactive=False)\n",
        "    contact_display = gr.Textbox(label=\"All Contacts\", lines=10, interactive=False)\n",
        "    # Button interactions\n",
        "    add_btn.click(add_or_update_contact, inputs=[name, phone, email], outputs=[output_msg, contact_display])\n",
        "    delete_btn.click(delete_contact, inputs=name, outputs=[output_msg, contact_display])\n",
        "    refresh_btn.click(fn=lambda: view_contacts(), outputs=contact_display)\n",
        "    hide_btn.click(toggle_contacts, inputs=contact_display, outputs=contact_display)\n",
        "\n",
        "demo.launch()"
      ],
      "metadata": {
        "colab": {
          "base_uri": "https://localhost:8080/",
          "height": 646
        },
        "id": "Ku8KD186RT8D",
        "outputId": "028552ec-371b-4012-a48a-b63e08ef6bd8"
      },
      "execution_count": 12,
      "outputs": [
        {
          "output_type": "stream",
          "name": "stdout",
          "text": [
            "It looks like you are running Gradio on a hosted Jupyter notebook, which requires `share=True`. Automatically setting `share=True` (you can turn this off by setting `share=False` in `launch()` explicitly).\n",
            "\n",
            "Colab notebook detected. To show errors in colab notebook, set debug=True in launch()\n",
            "* Running on public URL: https://77c86781bc6822fd86.gradio.live\n",
            "\n",
            "This share link expires in 1 week. For free permanent hosting and GPU upgrades, run `gradio deploy` from the terminal in the working directory to deploy to Hugging Face Spaces (https://huggingface.co/spaces)\n"
          ]
        },
        {
          "output_type": "display_data",
          "data": {
            "text/plain": [
              "<IPython.core.display.HTML object>"
            ],
            "text/html": [
              "<div><iframe src=\"https://77c86781bc6822fd86.gradio.live\" width=\"100%\" height=\"500\" allow=\"autoplay; camera; microphone; clipboard-read; clipboard-write;\" frameborder=\"0\" allowfullscreen></iframe></div>"
            ]
          },
          "metadata": {}
        },
        {
          "output_type": "execute_result",
          "data": {
            "text/plain": []
          },
          "metadata": {},
          "execution_count": 12
        }
      ]
    }
  ]
}